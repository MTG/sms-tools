{
 "cells": [
  {
   "cell_type": "markdown",
   "metadata": {},
   "source": [
    "# A1\n",
    "## Part 1 - Reading in an audio file"
   ]
  },
  {
   "cell_type": "code",
   "execution_count": null,
   "metadata": {
    "is_executing": true
   },
   "outputs": [],
   "source": [
    "import sys\n",
    "import os\n",
    "import numpy as np\n",
    "\n",
    "sys.path.append('../../software/models/')\n",
    "from utilFunctions import wavread, wavwrite"
   ]
  },
  {
   "cell_type": "markdown",
   "metadata": {},
   "source": [
    "Write a function that reads an audio file and returns 10 consecutive samples of the file starting from \n",
    "the 50001th sample. This means that the output should exactly contain the 50001th sample to the 50010th \n",
    "sample (10 samples). \n",
    "\n",
    "The input to the function is the file name (including the path) and the output should be a numpy array \n",
    "containing 10 samples.\n",
    "\n",
    "If you use the `wavread` function from the `utilFunctions` module the input samples will be automatically \n",
    "converted to floating point numbers with a range from -1 to 1, which is what we want. \n",
    "\n",
    "Remember that in python, the index of the first sample of an array is 0 and not 1."
   ]
  },
  {
   "cell_type": "code",
   "execution_count": null,
   "metadata": {},
   "outputs": [],
   "source": [
    "def readAudio(inputFile):\n",
    "    \"\"\"\n",
    "    Input:\n",
    "        inputFile: the path to the wav file      \n",
    "    Output:\n",
    "        The function should return a numpy array that contains 10 samples of the audio.\n",
    "    \"\"\"\n",
    "    ## Your code here"
   ]
  },
  {
   "cell_type": "markdown",
   "metadata": {},
   "source": [
    "If you run your code using `piano.wav` as the input, the function should return the following 10 samples:\n",
    "\n",
    "```\n",
    "array([-0.06213569, -0.04541154, -0.02734458, -0.0093997 ,  0.00769066,\t0.02319407,  0.03503525, 0.04309214, 0.04626606,  0.0441908], dtype=float32)\n",
    "```"
   ]
  },
  {
   "cell_type": "code",
   "execution_count": null,
   "metadata": {},
   "outputs": [],
   "source": [
    "## Your code here\n"
   ]
  },
  {
   "cell_type": "markdown",
   "metadata": {},
   "source": [
    "## Part 2 - Basic operations with audio"
   ]
  },
  {
   "cell_type": "markdown",
   "metadata": {},
   "source": [
    "Write a function that reads an audio file and returns the minimum and the maximum values of the audio \n",
    "samples in that file. \n",
    "\n",
    "The input to the function is the wav file name (including the path) and the output should be two floating \n",
    "point values returned as a tuple."
   ]
  },
  {
   "cell_type": "code",
   "execution_count": null,
   "metadata": {},
   "outputs": [],
   "source": [
    "def minMaxAudio(inputFile):\n",
    "    \"\"\"\n",
    "    Input:\n",
    "        inputFile: file name of the wav file (including path)\n",
    "    Output:\n",
    "        A tuple of the minimum and the maximum value of the audio samples, like: (min_val, max_val)\n",
    "    \"\"\"\n",
    "    ## Your code here"
   ]
  },
  {
   "cell_type": "markdown",
   "metadata": {},
   "source": [
    "If you run your code using `oboe-A4.wav` as the input, the function should return the following output: \n",
    "\n",
    "```\n",
    "(-0.83486432, 0.56501967)\n",
    "```"
   ]
  },
  {
   "cell_type": "code",
   "execution_count": null,
   "metadata": {},
   "outputs": [],
   "source": [
    "## Your code here\n"
   ]
  },
  {
   "cell_type": "markdown",
   "metadata": {},
   "source": [
    "## Part 3 - Python array indexing"
   ]
  },
  {
   "cell_type": "markdown",
   "metadata": {},
   "source": [
    "Write a function that given a numpy array `x`, returns every Mth element in `x`, starting from the \n",
    "first element.  \n",
    "\n",
    "The input arguments to this function are a numpy array `x` and a positive integer `M` such that `M` < number of \n",
    "elements in `x`. The output of this function should be a numpy array."
   ]
  },
  {
   "cell_type": "code",
   "execution_count": null,
   "metadata": {},
   "outputs": [],
   "source": [
    "def hopSamples(x,M):\n",
    "    \"\"\"\n",
    "    Inputs:\n",
    "        x: input numpy array\n",
    "        M: hop size (positive integer)\n",
    "    Output:\n",
    "        A numpy array containing every Mth element in x, starting from the first element in x.\n",
    "    \"\"\"\n",
    "    ## Your code here\n",
    "    rst_lst = []\n",
    "    j = 0\n",
    "    rst_lst.append(x[j])\n",
    "\n",
    "    j = j + M\n",
    "    for i in x:\n",
    "        if i == j:\n",
    "            rst_lst.append(x[j])\n",
    "            j = j + M\n",
    "\n",
    "    return rst_lst"
   ]
  },
  {
   "cell_type": "markdown",
   "metadata": {},
   "source": [
    "If you run your code with `x = np.arange(10)` and `M = 2`, the function should return the following output: \n",
    "\n",
    "```\n",
    "array([0, 2, 4, 6, 8])\n",
    "```"
   ]
  },
  {
   "cell_type": "code",
   "execution_count": null,
   "metadata": {},
   "outputs": [],
   "source": [
    "## Your code here\n"
   ]
  },
  {
   "cell_type": "markdown",
   "metadata": {},
   "source": [
    "## Part 4 - Downsampling\n"
   ]
  },
  {
   "cell_type": "markdown",
   "metadata": {},
   "source": [
    "One of the required processes to represent a signal inside a computer is sampling. The sampling rate is the number of samples obtained in one second when sampling a continuous analog signal to a discrete digital signal. As mentioned earlier, most of the time we will be working with wav audio files that have a sampling rate of 44100 Hz, which is a typical value. For some applications, changing the sampling rate of an audio signal can be necessary. This optional part shows how to do this, from a higher sampling rate to a lower one.\n",
    "\n",
    "Complete the function `downsampleAudio(inputFile,M`) so that given an audio file, it applies downsampling by a factor of `M` and create a wav audio file `<input_name>_downsampled.wav` at a lower sampling rate.\n",
    "\n",
    "In Part1 you learned how to read a wav file and the function from Part3 can be used to perform the downsampling of a signal contained in an array. To create a wav audio file from an array, you can use the `wavwrite` function from the `utilFunctions` module. Be careful with the sampling rate parameter since it should be different from that of the original audio."
   ]
  },
  {
   "cell_type": "code",
   "execution_count": null,
   "metadata": {},
   "outputs": [],
   "source": [
    "def downsampleAudio(inputFile, M):\n",
    "    \"\"\"\n",
    "    Inputs:\n",
    "        inputFile: file name of the wav file (including path)\n",
    "        \tM: downsampling factor (positive integer)\n",
    "    \"\"\"\n",
    "    ## Your code here\n"
   ]
  },
  {
   "cell_type": "markdown",
   "metadata": {},
   "source": [
    "You can test your code using the file `vibraphone-C6.wav` and a downsampling factor of `M=16`. \n",
    "Listen to the `vibraphone-C6_downsampled.wav` sound. What happened to the signal?\n",
    "How could we avoid damaging the signal when downsampling it?\n",
    "\n",
    "You can find some related information in https://en.wikipedia.org/wiki/Decimation_%28signal_processing%29."
   ]
  },
  {
   "cell_type": "code",
   "execution_count": null,
   "metadata": {},
   "outputs": [],
   "source": [
    "## Your code here\n"
   ]
  }
 ],
 "metadata": {
  "kernelspec": {
   "display_name": "Python 3",
   "language": "python",
   "name": "python3"
  },
  "language_info": {
   "codemirror_mode": {
    "name": "ipython",
    "version": 3
   },
   "file_extension": ".py",
   "mimetype": "text/x-python",
   "name": "python",
   "nbconvert_exporter": "python",
   "pygments_lexer": "ipython3",
   "version": "3.6.4"
  }
 },
 "nbformat": 4,
 "nbformat_minor": 2
}
