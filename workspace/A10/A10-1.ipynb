{
 "cells": [
  {
   "cell_type": "markdown",
   "metadata": {},
   "source": [
    "# A10"
   ]
  },
  {
   "cell_type": "markdown",
   "source": [
    "## Peer-graded Assignment: A music piece combining sounds and their transformations\n",
    "\n",
    "## Introduction\n",
    "\n",
    "The aim of this assignment is to extend the assignment A8 by having no limitations on the sounds used and the analysis models and transformations applied. This is an assignment to make some music. The end result of this assignment is a short music piece (about a minute long) combining various transformed sounds using the tools explained in class.\n",
    "\n",
    "## Guidelines\n",
    "\n",
    "In A8, you explored some transformations using sms-tools, but there were many limitations in that assignment:\n",
    "- You used a single analysis model, HPS. Now you can use any model presented in class or combinations of them.\n",
    "- You applied just one transformation to each sound file. Now you can combine and add several transformations of the same sound.\n",
    "- A single type of analysis and transformation was done for the whole sound. Now you can divide the sound into sections and use different analysis and transformations to each part.\n",
    "- The transformation was applied in a single pass. Now you can perform multiple passes of the same sound through different kinds of transformations.\n",
    "\n",
    "In this assignment, you can explore the potential of all the algorithms presented in class and\n",
    "come up with more creative transformations and combinations of them. You can combine sounds, models, and transformations, in any way you want. You can create your own mix of transformed sounds to make your own music composition! You can use Audacity to make the final mix of the piece.\n",
    "\n",
    "Some of these transformations might require you to change and modify some code in sms-tools. Feel free to dig in!\n",
    "\n",
    "You will evaluate a minimum of three other peers in this assignment."
   ],
   "metadata": {
    "collapsed": false
   }
  },
  {
   "cell_type": "markdown",
   "source": [
    "### Part 1.\n",
    "\n",
    "Choose several sounds from freesound.org that have a good scope for being analyzed with the techniques described in class and good potential for creative transformations. As with A8, you can even upload your own sounds to freesound.org and use them in the assignment. The sounds chosen should be naturally produced (any sound that was not synthesized). e.g. acoustic instrument sounds, speech, nature sounds, and ambient sounds, to name a few. Heavily processed natural sounds are acceptable, but refrain from using them unless necessary.\n",
    "\n",
    "Perform different transformations on each of the sounds, or parts of them. Then mix them together (overlapping sounds is allowed) using Audacity or a similar tool to create a single audio file. Be as creative as you can. You can repeat the sounds you have chosen. The only constraints are that you should only use models that you studied in the class (STFT, Sinusoidal, SPR, HPR,\n",
    "SPS, HPS) for analysis. This is a music piece you just composed with transformations on sound samples!\n",
    "\n",
    "Give a description of what you did, giving the freesound.org link to the sound files you started from, explaining the analysis and transformation you did to each of them, and explaining how you mixed them to obtain the final piece. The description should be like a script from which the evaluator can have a clear idea of the process that you followed. No need to give all the details, thus no need to have a script from which the composition could be regenerated, but the description should be clear enough to understand the whole process.\n",
    "\n",
    "Also you can share your experiences and the key things you learnt. If you modified any code from sms-tools, attach it along too. The evaluation of this assignment will be done based on your creativity, efforts and the things you learnt rather than the final result you obtain. So, make sure you explain them clearly and concisely.\n"
   ],
   "metadata": {
    "collapsed": false
   }
  },
  {
   "cell_type": "markdown",
   "source": [
    "Idea: Mixing of the natural sounds (water, wind) with instrument sounds (cello, clarinet) and human speech.\n",
    "\n",
    "links:\n",
    "- water: https://freesound.org/people/bienvenido69/sounds/652311/\n",
    "- wind: https://freesound.org/people/hackerb9/sounds/555246/\n",
    "- cello: https://freesound.org/people/combustibleplatypus/sounds/609221/\n",
    "- clarinet: https://freesound.org/people/upasnarayan/sounds/328734/\n",
    "- female speech: https://freesound.org/people/Jagadamba/sounds/255881/\n",
    "\n",
    "First, start with a female speech (tempo down a bit). Then, the clarinet is playing with water. Finally, the cello is playing in the wind and decrease gradually, to monitor the first part that the instrument is like whispering like human.\n",
    "\n",
    "The idea comes from a music concert which includes a clarinet playing with water drops. Instrument and music is another language and natural sounds could work perfectly with it.\n",
    "\n",
    "Transformations:\n",
    "(1). Intro: female speech: HPS (lower down the speech speed)\n",
    "- window=hamming, M=1024, N=2048, t=-150, minSinDur=0.1, nH=220, minf0=10, maxf0=100, f0et=7, harmDevSlope=0.01, stocf=0.5\n",
    "- freq. scale [0,1,1,1], freq. stretch [0,0.8,1,1.7, 1.4, 2], timber=1, time scale [[0,0,1,1.2, 1.4,2]]\n",
    "(2). Part 1: water + clarinet morphing: STFT Morph\n",
    "- sound1=clarinet, window=blackman, M=661, N=1024, H=256.\n",
    "- sound2=water, window=hamming, M=220, N=256.\n",
    "- smooth factor = 0.5\n",
    "- balance factor = 0.6\n",
    "(3). Part 2: wind + cello morphing: HPS Morph\n",
    "- sound1=cello, window=blackman, M=1024, N=2048, t=-165, minSineDur=0.1, minf0=100, maxf0=400, f0et=7, harmDevslope=0.01.\n",
    "- sound1=wind, window=hamming, M=512, N=512, t=-145, minSineDur=0.01, minf0=500, maxf0=1000, f0et=10, harmDevslope=0.05.\n",
    "- harmonic freq. = [0,0,1,0]\n",
    "- harmonic mag. = [0,0,0.5,0.7,1,0]\n",
    "- stochastic = [0,1,1,1]"
   ],
   "metadata": {
    "collapsed": false
   }
  },
  {
   "cell_type": "code",
   "execution_count": null,
   "outputs": [],
   "source": [],
   "metadata": {
    "collapsed": false
   }
  },
  {
   "cell_type": "markdown",
   "source": [
    "### Part 2.\n",
    "\n",
    "Upload the resulting piece (name it a10-a.wav). You are encouraged to upload the final piece to freesound.org once the evaluation phase is over. Just add the tag ”aspma-16-results” so that your peers can easily find them and check them out."
   ],
   "metadata": {
    "collapsed": false
   }
  }
 ],
 "metadata": {
  "kernelspec": {
   "display_name": "Python 2",
   "language": "python",
   "name": "python2"
  },
  "language_info": {
   "codemirror_mode": {
    "name": "ipython",
    "version": 2
   },
   "file_extension": ".py",
   "mimetype": "text/x-python",
   "name": "python",
   "nbconvert_exporter": "python",
   "pygments_lexer": "ipython2",
   "version": "2.7.15"
  }
 },
 "nbformat": 4,
 "nbformat_minor": 2
}
