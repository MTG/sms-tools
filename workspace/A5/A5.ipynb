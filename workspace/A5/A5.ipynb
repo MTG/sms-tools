{
 "cells": [
  {
   "cell_type": "markdown",
   "metadata": {},
   "source": [
    "# A5\n",
    "## Part 1 - Minimizing the frequency estimation error of a sinusoid"
   ]
  },
  {
   "cell_type": "code",
   "execution_count": 3,
   "metadata": {
    "ExecuteTime": {
     "end_time": "2024-03-30T08:30:48.699030Z",
     "start_time": "2024-03-30T08:30:48.692247Z"
    }
   },
   "outputs": [],
   "source": [
    "import numpy as np\n",
    "from scipy.signal import get_window\n",
    "import math\n",
    "import sys, os\n",
    "sys.path.append('../../software/models/')\n",
    "import dftModel as DFT\n",
    "import utilFunctions as UF\n",
    "import stft\n",
    "\n",
    "import sineModel as SM\n",
    "import matplotlib.pyplot as plt"
   ]
  },
  {
   "cell_type": "markdown",
   "metadata": {},
   "source": [
    "Write a function that estimates the frequency of a sinusoidal signal at a given time instant. The \n",
    "function should return the estimated frequency in Hz, together with the window size and the FFT \n",
    "size used in the analysis.  \n",
    "\n",
    "The input arguments to the function are the wav file name including the path (`inputFile`) containing \n",
    "the sinusoidal signal, and the frequency of the sinusoid in Hz (`f`). The frequency of the input sinusoid  \n",
    "can range between 100Hz and 2000Hz. The function should return a three element tuple of the estimated \n",
    "frequency of the sinusoid (`fEst`), the window size (`M`) and the FFT size (`N`) used.\n",
    "\n",
    "The input wav file is a stationary audio signal consisting of a single sinusoid of length >=1 second. \n",
    "Since the signal is stationary you can just perform the analysis in a single frame, for example in \n",
    "the middle of the sound file (time equal to .5 seconds). The analysis process would be to first select \n",
    "a fragment of the signal equal to the window size, `M`, centered at .5 seconds, then compute the DFT \n",
    "using the dftAnal function, and finally use the `peakDetection` and `peakInterp` functions to obtain the \n",
    "frequency value of the sinusoid.\n",
    "\n",
    "Use a Blackman window for analysis and a magnitude threshold `t = -40` dB for peak picking. The window\n",
    "size and FFT size should be chosen such that the difference between the true frequency (`f`) and the \n",
    "estimated frequency (`fEst`) is less than 0.05 Hz for the entire allowed frequency range of the input \n",
    "sinusoid. The window size should be the minimum positive integer of the form `100*k + 1` (where `k` is a \n",
    "positive integer) for which the frequency estimation error is < 0.05 Hz. For a window size `M`, take the\n",
    "FFT size (`N`) to be the smallest power of 2 larger than `M`. \n",
    "\n",
    "HINT: Computing `M` theoritically using a formula might be complex in such cases. Instead, you need to \n",
    "follow a heuristic approach to determine the optimal value of `M` and `N` for a particular `f`. You can iterate\n",
    "over all allowed values of window size `M` and stop when the condition is satisfied (i.e. the frequency estimation error < 0.05 Hz)."
   ]
  },
  {
   "cell_type": "code",
   "execution_count": 20,
   "metadata": {
    "ExecuteTime": {
     "end_time": "2024-03-30T09:53:51.270907Z",
     "start_time": "2024-03-30T09:53:51.254322Z"
    }
   },
   "outputs": [],
   "source": [
    "def minFreqEstErr(inputFile, f):\n",
    "    \"\"\"\n",
    "    Inputs:\n",
    "            inputFile (string) = wav file including the path\n",
    "            f (float) = frequency of the sinusoid present in the input audio signal (Hz)\n",
    "    Output:\n",
    "            fEst (float) = Estimated frequency of the sinusoid (Hz)\n",
    "            M (int) = Window size\n",
    "            N (int) = FFT size\n",
    "    \"\"\"\n",
    "    # analysis parameters:\n",
    "    window = 'blackman'\n",
    "    t = -40\n",
    "    \n",
    "    ### Your code here\n",
    "    (fs, x) = UF.wavread(inputFile)\n",
    "    half_fs = int(fs/2)\n",
    "    fEst = 0\n",
    "    M = 0\n",
    "    N = 0\n",
    "\n",
    "    Bs_blackman = 6 # blackman window main lobe bin=6\n",
    "    f0 = 2000   # frequency between 0-2000 Hz\n",
    "    f1 = 100\n",
    "    # start M and end M\n",
    "    M_start = int(Bs_blackman * fs / f0) # M >= Bs * fs / f0\n",
    "    M_end = int(Bs_blackman * fs / f1)\n",
    "    # transform M to k pos int\n",
    "    k_start = int(np.ceil((M_start - 1) / 100))\n",
    "    k_end = int(np.ceil((M_end - 1) / 100))\n",
    "\n",
    "    # integrate to optimize\n",
    "    for k in range(k_start, k_end + 1):\n",
    "        local_M = 100 * k + 1\n",
    "        local_N = int(2 ** np.ceil(np.log2(local_M)))\n",
    "        # get window\n",
    "        w = get_window(window, local_M)\n",
    "        # get centered signal\n",
    "        x1 = x[int(half_fs - local_M/2 - 1):int(half_fs + local_M/2)]\n",
    "        mX, pX = DFT.dftAnal(x1, w, local_N)  # get mX and pX\n",
    "        # get peak detection and interpolate\n",
    "        ploc = UF.peakDetection(mX, t)  # get peak detection\n",
    "        iploc, ipmag, ipphase = UF.peakInterp(mX, pX, ploc) # get peak interpolate\n",
    "        iploc = iploc[0]\n",
    "        # get estimated frequency\n",
    "        local_fEst = fs * iploc / float(local_N)\n",
    "        err_f = np.abs(local_fEst - f)\n",
    "        if err_f < 0.05:\n",
    "            M = local_M\n",
    "            N = local_N\n",
    "            fEst = local_fEst\n",
    "            break\n",
    "\n",
    "    return fEst, M, N\n"
   ]
  },
  {
   "cell_type": "markdown",
   "metadata": {},
   "source": [
    "Test case 1: If you run your code with `inputFile = '../../sounds/sine-490.wav'`, `f = 490.0` Hz, the optimal\n",
    "values are `M = 1101`, `N = 2048`, `fEst = 489.963` and the freqency estimation error is 0.037.\n",
    "\n",
    "Test case 2: If you run your code with `inputFile = '../../sounds/sine-1000.wav'`, `f = 1000.0` Hz, the optimal\n",
    "values are `M = 1101`, `N = 2048`, `fEst = 1000.02` and the freqency estimation error is 0.02.\n",
    "\n",
    "Test case 3: If you run your code with `inputFile = '../../sounds/sine-200.wav'`, `f = 200.0 Hz`, the optimal\n",
    "values are `M = 1201`, `N = 2048`, `fEst = 200.038` and the freqency estimation error is 0.038."
   ]
  },
  {
   "cell_type": "code",
   "execution_count": 25,
   "metadata": {
    "ExecuteTime": {
     "end_time": "2024-03-30T09:55:06.745263Z",
     "start_time": "2024-03-30T09:55:06.732345Z"
    }
   },
   "outputs": [
    {
     "name": "stdout",
     "output_type": "stream",
     "text": [
      "(489.96301833874764, 1101, 2048)\n",
      "------------------------\n",
      "(489.9631474226147, 1101, 2048)\n"
     ]
    }
   ],
   "source": [
    "## Your code here\n",
    "import loadTestCases\n",
    "testcase = loadTestCases.load(1, 1)\n",
    "output = minFreqEstErr(**testcase['input'])\n",
    "print output\n",
    "print '------------------------'\n",
    "print testcase['output']"
   ]
  },
  {
   "cell_type": "markdown",
   "metadata": {},
   "source": [
    "## Part 2 - Tracking a two component chirp "
   ]
  },
  {
   "cell_type": "markdown",
   "metadata": {},
   "source": [
    "Perform a \"good\" sinusoidal analysis of a two component chirp by specifying the parameter window-size in the function `chirpTracker()` below. The estimation and tracking of the two varying frequencies should result in a mean error smaller than 2Hz. The function returns the parameters used, true and estimated tracks of frequency components, and their associated time stamps. \n",
    "\n",
    "In this part, you will use the sound `chirp-150-190-linear.wav`, which is a linear chirp with two sinusoids of 150Hz and 190 Hz, whose frequency increases in two seconds to 1400Hz and 1440Hz respectively. Listen to the sound and use `sms-tools` GUI or sonic visualizer to see its spectrogram. \n",
    "\n",
    "You will not write any additional code in this question, but modify the parameter of the code to \n",
    "obtain the best possible results. There are three functions we have written for you. Please go through \n",
    "each function and understand it, but do not modify any of it.\n",
    "\n",
    "1. `chirpTracker()`: This is the main function. Uses `sineModel.py` for sinusoidal analysis of the input sound. It takes an input audio file and uses the function `sineModel.sineModelAnal()` to obtain the two frequency tracks (`fTrackEst`) in the chirp and computes the estimation error (`meanErr`) using the true frequency tracks obtained using `genTrueFreqTracks()`.\n",
    "\n",
    "`chirpTracker()` calls the following two functions:\n",
    "\n",
    "2. `genTimeStamps()`: Generates the time stamps at which the frequencies of sinusoids are estimated (one value per frame)\n",
    "\n",
    "3. `genTrueFreqTracks()`: For the input sound `chirp-150-190-linear.wav`, the function generates the true frequency values, so that we can compare the true and the estimated frequency values. \n",
    "\n",
    "We will use the sinusoidal model to analyse this sound and extract the two components. We will use the \n",
    "`sineModel.sineModelAnal()` function for analysis. The code for analysis is already provided below \n",
    "with some parameters we have fixed. For analysis, we will use a blackman window. Since we need only \n",
    "two frequency component estimates every frame, we set `maxnSines = 2`. \n",
    "\n",
    "Choose the parameter window-size (`M`) such that the mean estimation error (`meanErr`) of each frequency component is less than 2 Hz. There is a range of values of `M` for which this is true and all of those values will be considered correct answers. You can plot the estimated and true frequency tracks to visualize the accuracy of estimation. \n",
    "\n",
    "We have written the function `chirpTracker()` for you and you just have to edit `M`. It is marked as `XX` and you can edit its value as needed."
   ]
  },
  {
   "cell_type": "code",
   "execution_count": 51,
   "metadata": {
    "ExecuteTime": {
     "end_time": "2024-03-30T10:15:45.125833Z",
     "start_time": "2024-03-30T10:15:45.033886Z"
    }
   },
   "outputs": [],
   "source": [
    "def chirpTracker(inputFile='../../sounds/chirp-150-190-linear.wav'):\n",
    "    \"\"\"\n",
    "    Input:\n",
    "           inputFile (string) = wav file including the path\n",
    "    Output:\n",
    "           M (int) = Window length\n",
    "           H (int) = hop size in samples\n",
    "           tStamps (numpy array) = A Kx1 numpy array of time stamps at which the frequency components were estimated\n",
    "           fTrackEst (numpy array) = A Kx2 numpy array of estimated frequency values, one row per time frame, one column per component\n",
    "           fTrackTrue (numpy array) = A Kx2 numpy array of true frequency values, one row per time frame, one column per component\n",
    "           K is the number of frames\n",
    "    \"\"\"\n",
    "    # Analysis parameters: Modify values of the parameters marked XX\n",
    "    M = 4091                             # Window size in samples\n",
    "    \n",
    "    ### Go through the code below and understand it, do not modify anything ###    \n",
    "    H = 128                                     # Hop size in samples\n",
    "    N = int(pow(2, np.ceil(np.log2(M))))        # FFT Size, power of 2 larger than M\n",
    "    t = -80.0                                   # threshold\n",
    "    window = 'blackman'                         # Window type\n",
    "    maxnSines = 2                               # Maximum number of sinusoids at any time frame\n",
    "    minSineDur = 0.0                            # minimum duration set to zero to not do tracking\n",
    "    freqDevOffset = 30                          # minimum frequency deviation at 0Hz\n",
    "    freqDevSlope = 0.001                        # slope increase of minimum frequency deviation\n",
    "    \n",
    "    fs, x = UF.wavread(inputFile)               # read input sound\n",
    "    w = get_window(window, M)                   # Compute analysis window\n",
    "    tStamps = genTimeStamps(x.size, M, fs, H)   # Generate the tStamps to return\n",
    "    # analyze the sound with the sinusoidal model\n",
    "    fTrackEst, mTrackEst, pTrackEst = SM.sineModelAnal(x, fs, w, N, H, t, maxnSines, minSineDur, freqDevOffset, freqDevSlope)\n",
    "    fTrackTrue = genTrueFreqTracks(tStamps)     # Generate the true frequency tracks\n",
    "    tailF = 20                                 \n",
    "    # Compute mean estimation error. 20 frames at the beginning and end not used to compute error\n",
    "    meanErr = np.mean(np.abs(fTrackTrue[tailF:-tailF,:] - fTrackEst[tailF:-tailF,:]),axis=0)     \n",
    "    print (\"Mean estimation error = \" + str(meanErr) + ' Hz')      # Print the error to terminal    \n",
    "    # Plot the estimated and true frequency tracks\n",
    "    mX, pX = stft.stftAnal(x, w, N, H)\n",
    "    maxplotfreq = 1500.0\n",
    "    binFreq = fs*np.arange(N*maxplotfreq/fs)/N\n",
    "    plt.pcolormesh(tStamps, binFreq, np.transpose(mX[:,:N*maxplotfreq/fs+1]),cmap = 'hot_r')\n",
    "    plt.plot(tStamps,fTrackTrue, 'o-', color = 'c', linewidth=3.0)\n",
    "    plt.plot(tStamps,fTrackEst, color = 'y', linewidth=2.0)\n",
    "    plt.legend(('True f1', 'True f2', 'Estimated f1', 'Estimated f2'))\n",
    "    plt.xlabel('Time (s)')\n",
    "    plt.ylabel('Frequency (Hz)')\n",
    "    plt.autoscale(tight=True)\n",
    "    plt.show()\n",
    "    return M, H, tStamps, fTrackEst, fTrackTrue  # Output returned \n",
    "\n",
    "### Do not modify this function\n",
    "def genTimeStamps(xlen, M, fs, H):\n",
    "    # Generates the timeStamps as needed for output\n",
    "    hM1 = int(np.floor((M+1)/2))                     \n",
    "    hM2 = int(np.floor(M/2))                         \n",
    "    xlen = xlen + 2*hM2\n",
    "    pin = hM1\n",
    "    pend = xlen - hM1                                     \n",
    "    tStamps = np.arange(pin,pend,H)/float(fs)\n",
    "    return tStamps\n",
    "\n",
    "### Do not modify this function\n",
    "def genTrueFreqTracks(tStamps):\n",
    "    # Generates the true frequency values to compute estimation error\n",
    "    # Specifically to chirp-150-190-linear.wav\n",
    "    fTrack = np.zeros((len(tStamps),2))\n",
    "    fTrack[:,0] = np.transpose(np.linspace(190, 190+1250, len(tStamps)))\n",
    "    fTrack[:,1] = np.transpose(np.linspace(150, 150+1250, len(tStamps)))\n",
    "    return fTrack"
   ]
  },
  {
   "cell_type": "markdown",
   "metadata": {},
   "source": [
    "As an example, choosing `M = 1023`, the mean estimation error is `[13.677,  518.409]` Hz, which as you can see do not give us the desired estimation errors. "
   ]
  },
  {
   "cell_type": "code",
   "execution_count": 52,
   "metadata": {
    "ExecuteTime": {
     "end_time": "2024-03-30T10:15:47.853173Z",
     "start_time": "2024-03-30T10:15:46.122819Z"
    }
   },
   "outputs": [
    {
     "name": "stdout",
     "output_type": "stream",
     "text": [
      "Mean estimation error = [0.73780065 1.35791853] Hz\n"
     ]
    },
    {
     "ename": "TypeError",
     "evalue": "slice indices must be integers or None or have an __index__ method",
     "output_type": "error",
     "traceback": [
      "\u001B[0;31m\u001B[0m",
      "\u001B[0;31mTypeError\u001B[0mTraceback (most recent call last)",
      "\u001B[0;32m<ipython-input-52-fd96248aaeb5>\u001B[0m in \u001B[0;36m<module>\u001B[0;34m()\u001B[0m\n\u001B[1;32m      1\u001B[0m \u001B[0;31m## Your code here\u001B[0m\u001B[0;34m\u001B[0m\u001B[0;34m\u001B[0m\u001B[0m\n\u001B[0;32m----> 2\u001B[0;31m \u001B[0mchirpTracker\u001B[0m\u001B[0;34m(\u001B[0m\u001B[0minputFile\u001B[0m\u001B[0;34m=\u001B[0m\u001B[0;34m'../../sounds/chirp-150-190-linear.wav'\u001B[0m\u001B[0;34m)\u001B[0m\u001B[0;34m\u001B[0m\u001B[0m\n\u001B[0m",
      "\u001B[0;32m<ipython-input-51-f82c362a4c41>\u001B[0m in \u001B[0;36mchirpTracker\u001B[0;34m(inputFile)\u001B[0m\n\u001B[1;32m     38\u001B[0m     \u001B[0mmaxplotfreq\u001B[0m \u001B[0;34m=\u001B[0m \u001B[0;36m1500.0\u001B[0m\u001B[0;34m\u001B[0m\u001B[0m\n\u001B[1;32m     39\u001B[0m     \u001B[0mbinFreq\u001B[0m \u001B[0;34m=\u001B[0m \u001B[0mfs\u001B[0m\u001B[0;34m*\u001B[0m\u001B[0mnp\u001B[0m\u001B[0;34m.\u001B[0m\u001B[0marange\u001B[0m\u001B[0;34m(\u001B[0m\u001B[0mN\u001B[0m\u001B[0;34m*\u001B[0m\u001B[0mmaxplotfreq\u001B[0m\u001B[0;34m/\u001B[0m\u001B[0mfs\u001B[0m\u001B[0;34m)\u001B[0m\u001B[0;34m/\u001B[0m\u001B[0mN\u001B[0m\u001B[0;34m\u001B[0m\u001B[0m\n\u001B[0;32m---> 40\u001B[0;31m     \u001B[0mplt\u001B[0m\u001B[0;34m.\u001B[0m\u001B[0mpcolormesh\u001B[0m\u001B[0;34m(\u001B[0m\u001B[0mtStamps\u001B[0m\u001B[0;34m,\u001B[0m \u001B[0mbinFreq\u001B[0m\u001B[0;34m,\u001B[0m \u001B[0mnp\u001B[0m\u001B[0;34m.\u001B[0m\u001B[0mtranspose\u001B[0m\u001B[0;34m(\u001B[0m\u001B[0mmX\u001B[0m\u001B[0;34m[\u001B[0m\u001B[0;34m:\u001B[0m\u001B[0;34m,\u001B[0m\u001B[0;34m:\u001B[0m\u001B[0mN\u001B[0m\u001B[0;34m*\u001B[0m\u001B[0mmaxplotfreq\u001B[0m\u001B[0;34m/\u001B[0m\u001B[0mfs\u001B[0m\u001B[0;34m+\u001B[0m\u001B[0;36m1\u001B[0m\u001B[0;34m]\u001B[0m\u001B[0;34m)\u001B[0m\u001B[0;34m,\u001B[0m\u001B[0mcmap\u001B[0m \u001B[0;34m=\u001B[0m \u001B[0;34m'hot_r'\u001B[0m\u001B[0;34m)\u001B[0m\u001B[0;34m\u001B[0m\u001B[0m\n\u001B[0m\u001B[1;32m     41\u001B[0m     \u001B[0mplt\u001B[0m\u001B[0;34m.\u001B[0m\u001B[0mplot\u001B[0m\u001B[0;34m(\u001B[0m\u001B[0mtStamps\u001B[0m\u001B[0;34m,\u001B[0m\u001B[0mfTrackTrue\u001B[0m\u001B[0;34m,\u001B[0m \u001B[0;34m'o-'\u001B[0m\u001B[0;34m,\u001B[0m \u001B[0mcolor\u001B[0m \u001B[0;34m=\u001B[0m \u001B[0;34m'c'\u001B[0m\u001B[0;34m,\u001B[0m \u001B[0mlinewidth\u001B[0m\u001B[0;34m=\u001B[0m\u001B[0;36m3.0\u001B[0m\u001B[0;34m)\u001B[0m\u001B[0;34m\u001B[0m\u001B[0m\n\u001B[1;32m     42\u001B[0m     \u001B[0mplt\u001B[0m\u001B[0;34m.\u001B[0m\u001B[0mplot\u001B[0m\u001B[0;34m(\u001B[0m\u001B[0mtStamps\u001B[0m\u001B[0;34m,\u001B[0m\u001B[0mfTrackEst\u001B[0m\u001B[0;34m,\u001B[0m \u001B[0mcolor\u001B[0m \u001B[0;34m=\u001B[0m \u001B[0;34m'y'\u001B[0m\u001B[0;34m,\u001B[0m \u001B[0mlinewidth\u001B[0m\u001B[0;34m=\u001B[0m\u001B[0;36m2.0\u001B[0m\u001B[0;34m)\u001B[0m\u001B[0;34m\u001B[0m\u001B[0m\n",
      "\u001B[0;31mTypeError\u001B[0m: slice indices must be integers or None or have an __index__ method"
     ]
    }
   ],
   "source": [
    "## Your code here\n",
    "chirpTracker(inputFile='../../sounds/chirp-150-190-linear.wav')"
   ]
  },
  {
   "cell_type": "markdown",
   "metadata": {},
   "source": [
    "## Part 3 -Tracking sinusoids of different amplitudes "
   ]
  },
  {
   "cell_type": "markdown",
   "metadata": {},
   "source": [
    "Perform a \"good\" sinusoidal analysis of a signal with two sinusoidal components of different amplitudes \n",
    "by specifying the parameters `'window type'` and `'peak picking threshold'` in the function `mainlobeTracker()` \n",
    "below. The function should return the parameters used, true and estimated tracks of frequency components, \n",
    "and their associated time stamps. \n",
    "\n",
    "We will consider a signal that has two sinusoidal components with a very large difference in their \n",
    "amplitude. We will use a synthetically generated signal with frequency components 440 Hz and 602 Hz, \n",
    "`s = sin(2*pi*440*t) + 2e-3*sin(2*pi*602*t)`. As you see the amplitude difference is large. You will \n",
    "use the sound `sines-440-602-hRange.wav`. Listen to the sound and use `sms-tools` GUI or sonic visualizer \n",
    "to see its spectrogram. Notice the difference in the amplitudes of its components. \n",
    "\n",
    "You will not write any additional code in this question, but modify the parameters of the code to obtain \n",
    "the best possible results. There are three functions we have written for you. Please go through each \n",
    "function and understand it, but do not modify any of it.\n",
    "\n",
    "1. `mainlobeTracker()`: This is the main function. Uses `sineModel.py` for sinusoidal analysis of the input sound. It takes an input audio file and uses the function `sineModel.sineModelAnal()`, tracks the mainlobes of the two sinusoids to obtain the two frequency tracks (`fTrackEst`) in the signal. It also computes the estimation error (`meanErr`) in frequency using the true frequency tracks obtained using `genTrueFreqTracks()`.\n",
    "\n",
    "`mainlobeTracker()` calls the following two functions:\n",
    "\n",
    "2. `genTimeStamps()`: Generates the time stamps at which the sinuosid frequencies are estimated (one value per audio frame)\n",
    "\n",
    "3. `genTrueFreqTracks()`: For the input sound `sines-440-602-hRange.wav`, the function generates the true frequency values, so that we can compare the true and the estimated frequency values. \n",
    "\n",
    "We will use sinusoidal Model to analyse this sound and extract the two components. We will use the \n",
    "`sineModel.sineModelAnal()` function for analysis. The code for analysis is already provided below with \n",
    "some parameters we have fixed. For analysis, we will use a window length (`M`) of 2047 samples, an FFT \n",
    "size (`N`) of 4096 samples and hop size (`H`) of 128 samples. For sine tracking, we set the minimum sine \n",
    "duration (`minSineDur`) to 0.02 seconds, `freqDevOffset` to 10 Hz and `freqDevSlope` to its default value of \n",
    "0.001. Since we need only two frequency component estimates at every frame, we set `maxnSines = 2`. \n",
    "\n",
    "Choose the parameters window and the peak picking threshold (`t`) such that the mean estimation error of each frequency components is less than 2 Hz. There is a range of values of `M` and `t` for which this is true and all of those values will be considered correct answers. You can plot the estimated and true frequency tracks to visualize the accuracy of estimation. The output is the set of parameters you used: `window`, `t`, the time stamps, estimated and the true frequency tracks. Note that choosing the wrong window might lead to tracking of one of the sidelobes of the high amplitude sinusoid instead of the mainlobe of the low amplitude sinusoid. \n",
    "\n",
    "We have written the function `mainlobeTracker()` and you have to edit the window and `t` values. For the window, choose one of `'boxcar'`, `'hanning'`, `'hamming'`, `'blackman'`, or `'blackmanharris'`. `t` is specified in negative dB. These two parameters are marked as `XX` and you can edit the values as needed. "
   ]
  },
  {
   "cell_type": "code",
   "execution_count": 67,
   "metadata": {
    "ExecuteTime": {
     "end_time": "2024-03-30T10:40:21.098430Z",
     "start_time": "2024-03-30T10:40:20.834607Z"
    }
   },
   "outputs": [],
   "source": [
    "def mainlobeTracker(inputFile = '../../sounds/sines-440-602-hRange.wav'):\n",
    "    \"\"\"\n",
    "    Input:\n",
    "           inputFile (string): wav file including the path\n",
    "    Output:\n",
    "           window (string): The window type used for analysis\n",
    "           t (float) = peak picking threshold (negative dB)\n",
    "           tStamps (numpy array) = A Kx1 numpy array of time stamps at which the frequency components were estimated\n",
    "           fTrackEst = A Kx2 numpy array of estimated frequency values, one row per time frame, one column per component\n",
    "           fTrackTrue = A Kx2 numpy array of true frequency values, one row per time frame, one column per component\n",
    "    \"\"\"       \n",
    "    # Analysis parameters: Modify values of the parameters marked XX\n",
    "    #window = 'blackman'                                          # Window type\n",
    "    #t = -70                                               # threshold (negative dB)\n",
    "    window = 'blackmanharris'\n",
    "    t = -70\n",
    "    \n",
    "    ### Go through the code below and understand it, do not modify anything ###   \n",
    "    M = 2047                                             # Window size \n",
    "    N = 4096                                             # FFT Size\n",
    "    H = 128                                              # Hop size in samples\n",
    "    maxnSines = 2\n",
    "    minSineDur = 0.02\n",
    "    freqDevOffset = 10\n",
    "    freqDevSlope = 0.001\n",
    "    # read input sound\n",
    "    fs, x = UF.wavread(inputFile)               \n",
    "    w = get_window(window, M)                   # Compute analysis window\n",
    "    tStamps = genTimeStamps(x.size, M, fs, H)   # Generate the tStamps to return\n",
    "    # analyze the sound with the sinusoidal model\n",
    "    fTrackEst, mTrackEst, pTrackEst = SM.sineModelAnal(x, fs, w, N, H, t, maxnSines, minSineDur, freqDevOffset, freqDevSlope)\n",
    "    fTrackTrue = genTrueFreqTracks(tStamps)     # Generate the true frequency tracks\n",
    "    tailF = 20                                 \n",
    "    # Compute mean estimation error. 20 frames at the beginning and end not used to compute error\n",
    "    meanErr = np.mean(np.abs(fTrackTrue[tailF:-tailF,:] - fTrackEst[tailF:-tailF,:]),axis=0)     \n",
    "    print (\"Mean estimation error = \" + str(meanErr) + ' Hz')      # Print the error to terminal\n",
    "    # Plot the estimated and true frequency tracks\n",
    "    mX, pX = stft.stftAnal(x, w, N, H)\n",
    "    maxplotfreq = 900.0\n",
    "    binFreq = fs*np.arange(N*maxplotfreq/fs)/N\n",
    "    plt.pcolormesh(tStamps, binFreq, np.transpose(mX[:,:N*maxplotfreq/fs+1]), cmap='hot_r')\n",
    "    plt.plot(tStamps,fTrackTrue, 'o-', color = 'c', linewidth=3.0)\n",
    "    plt.plot(tStamps,fTrackEst, color = 'y', linewidth=2.0)\n",
    "    plt.legend(('True f1', 'True f2', 'Estimated f1', 'Estimated f2'))\n",
    "    plt.xlabel('Time (s)')\n",
    "    plt.ylabel('Frequency (Hz)')\n",
    "    plt.autoscale(tight=True)\n",
    "    return window, float(t), tStamps, fTrackEst, fTrackTrue  # Output returned \n",
    "\n",
    "### Do not modify this function\n",
    "def genTimeStamps(xlen, M, fs, H):\n",
    "    # Generates the timeStamps as needed for output\n",
    "    hM1 = int(np.floor((M+1)/2))                     \n",
    "    hM2 = int(np.floor(M/2))                         \n",
    "    xlen = xlen + 2*hM2\n",
    "    pin = hM1\n",
    "    pend = xlen - hM1                                     \n",
    "    tStamps = np.arange(pin,pend,H)/float(fs)\n",
    "    return tStamps\n",
    "\n",
    "### Do not modify this function\n",
    "def genTrueFreqTracks(tStamps):\n",
    "    # Generates the true frequency values to compute estimation error\n",
    "    # Specifically to sines-440-602-hRange.wav\n",
    "    fTrack = np.zeros((len(tStamps),2))\n",
    "    fTrack[:,0] = np.transpose(440*np.ones((len(tStamps),1)))\n",
    "    fTrack[:,1] = np.transpose(602*np.ones((len(tStamps),1)))\n",
    "    return fTrack"
   ]
  },
  {
   "cell_type": "markdown",
   "metadata": {},
   "source": [
    "As an example, choosing `window = 'boxcar'`, `t = -80.0`, the mean estimation error is `[0.142, 129.462]` Hz. "
   ]
  },
  {
   "cell_type": "code",
   "execution_count": 68,
   "metadata": {
    "ExecuteTime": {
     "end_time": "2024-03-30T10:40:23.557140Z",
     "start_time": "2024-03-30T10:40:22.081536Z"
    }
   },
   "outputs": [
    {
     "name": "stdout",
     "output_type": "stream",
     "text": [
      "Mean estimation error = [0.0053099  0.01883719] Hz\n"
     ]
    },
    {
     "ename": "TypeError",
     "evalue": "slice indices must be integers or None or have an __index__ method",
     "output_type": "error",
     "traceback": [
      "\u001B[0;31m\u001B[0m",
      "\u001B[0;31mTypeError\u001B[0mTraceback (most recent call last)",
      "\u001B[0;32m<ipython-input-68-70e427078fd8>\u001B[0m in \u001B[0;36m<module>\u001B[0;34m()\u001B[0m\n\u001B[1;32m      1\u001B[0m \u001B[0;31m## Your code here\u001B[0m\u001B[0;34m\u001B[0m\u001B[0;34m\u001B[0m\u001B[0m\n\u001B[0;32m----> 2\u001B[0;31m \u001B[0mmainlobeTracker\u001B[0m\u001B[0;34m(\u001B[0m\u001B[0;34m)\u001B[0m\u001B[0;34m\u001B[0m\u001B[0m\n\u001B[0m",
      "\u001B[0;32m<ipython-input-67-b7f2bb65cdc9>\u001B[0m in \u001B[0;36mmainlobeTracker\u001B[0;34m(inputFile)\u001B[0m\n\u001B[1;32m     39\u001B[0m     \u001B[0mmaxplotfreq\u001B[0m \u001B[0;34m=\u001B[0m \u001B[0;36m900.0\u001B[0m\u001B[0;34m\u001B[0m\u001B[0m\n\u001B[1;32m     40\u001B[0m     \u001B[0mbinFreq\u001B[0m \u001B[0;34m=\u001B[0m \u001B[0mfs\u001B[0m\u001B[0;34m*\u001B[0m\u001B[0mnp\u001B[0m\u001B[0;34m.\u001B[0m\u001B[0marange\u001B[0m\u001B[0;34m(\u001B[0m\u001B[0mN\u001B[0m\u001B[0;34m*\u001B[0m\u001B[0mmaxplotfreq\u001B[0m\u001B[0;34m/\u001B[0m\u001B[0mfs\u001B[0m\u001B[0;34m)\u001B[0m\u001B[0;34m/\u001B[0m\u001B[0mN\u001B[0m\u001B[0;34m\u001B[0m\u001B[0m\n\u001B[0;32m---> 41\u001B[0;31m     \u001B[0mplt\u001B[0m\u001B[0;34m.\u001B[0m\u001B[0mpcolormesh\u001B[0m\u001B[0;34m(\u001B[0m\u001B[0mtStamps\u001B[0m\u001B[0;34m,\u001B[0m \u001B[0mbinFreq\u001B[0m\u001B[0;34m,\u001B[0m \u001B[0mnp\u001B[0m\u001B[0;34m.\u001B[0m\u001B[0mtranspose\u001B[0m\u001B[0;34m(\u001B[0m\u001B[0mmX\u001B[0m\u001B[0;34m[\u001B[0m\u001B[0;34m:\u001B[0m\u001B[0;34m,\u001B[0m\u001B[0;34m:\u001B[0m\u001B[0mN\u001B[0m\u001B[0;34m*\u001B[0m\u001B[0mmaxplotfreq\u001B[0m\u001B[0;34m/\u001B[0m\u001B[0mfs\u001B[0m\u001B[0;34m+\u001B[0m\u001B[0;36m1\u001B[0m\u001B[0;34m]\u001B[0m\u001B[0;34m)\u001B[0m\u001B[0;34m,\u001B[0m \u001B[0mcmap\u001B[0m\u001B[0;34m=\u001B[0m\u001B[0;34m'hot_r'\u001B[0m\u001B[0;34m)\u001B[0m\u001B[0;34m\u001B[0m\u001B[0m\n\u001B[0m\u001B[1;32m     42\u001B[0m     \u001B[0mplt\u001B[0m\u001B[0;34m.\u001B[0m\u001B[0mplot\u001B[0m\u001B[0;34m(\u001B[0m\u001B[0mtStamps\u001B[0m\u001B[0;34m,\u001B[0m\u001B[0mfTrackTrue\u001B[0m\u001B[0;34m,\u001B[0m \u001B[0;34m'o-'\u001B[0m\u001B[0;34m,\u001B[0m \u001B[0mcolor\u001B[0m \u001B[0;34m=\u001B[0m \u001B[0;34m'c'\u001B[0m\u001B[0;34m,\u001B[0m \u001B[0mlinewidth\u001B[0m\u001B[0;34m=\u001B[0m\u001B[0;36m3.0\u001B[0m\u001B[0;34m)\u001B[0m\u001B[0;34m\u001B[0m\u001B[0m\n\u001B[1;32m     43\u001B[0m     \u001B[0mplt\u001B[0m\u001B[0;34m.\u001B[0m\u001B[0mplot\u001B[0m\u001B[0;34m(\u001B[0m\u001B[0mtStamps\u001B[0m\u001B[0;34m,\u001B[0m\u001B[0mfTrackEst\u001B[0m\u001B[0;34m,\u001B[0m \u001B[0mcolor\u001B[0m \u001B[0;34m=\u001B[0m \u001B[0;34m'y'\u001B[0m\u001B[0;34m,\u001B[0m \u001B[0mlinewidth\u001B[0m\u001B[0;34m=\u001B[0m\u001B[0;36m2.0\u001B[0m\u001B[0;34m)\u001B[0m\u001B[0;34m\u001B[0m\u001B[0m\n",
      "\u001B[0;31mTypeError\u001B[0m: slice indices must be integers or None or have an __index__ method"
     ]
    }
   ],
   "source": [
    "## Your code here\n",
    "mainlobeTracker()"
   ]
  },
  {
   "cell_type": "markdown",
   "metadata": {},
   "source": [
    "## Part 4 - Tracking sinusoids using the phase spectrum"
   ]
  },
  {
   "cell_type": "markdown",
   "metadata": {},
   "source": [
    "Write a function `selectFlatPhasePeak()` that selects a sinusoid peak based on the flatness of the \n",
    "phase spectrum around the frequency of the sinusoid. The function will be used for tracking sinusoids \n",
    "in audio signals, as an alternate method to tracking the mainlobe peaks of the magnitude spectrum. \n",
    "\n",
    "In this question, you will implement an alternate way of tracking mainlobe of a sinusoid, using the \n",
    "phase spectrum. Recall that zero-phase windowing of sinusoid signal frame leads to a phase spectrum \n",
    "that is flat around the bins corresponding to frequency of the sinusoid. We will use this property \n",
    "of flatness of the phase spectrum as an alternative method to track the sinusoids. Note that this \n",
    "condition of flatness is satisfied only when the sinusoid is not time varying. For time-varying \n",
    "sinusoids, the condition fails. \n",
    "\n",
    "We will consider a signal that has two sinusoid components and has a transient in the middle of the \n",
    "audio file. You will use the sound `sines-440-602-transient.wav`. Listen to the sound and use `sms-tools` \n",
    "GUI or sonic visualizer to see its spectrogram. Notice the transient that occurs in the middle of the \n",
    "sound file, where tracking using phase is likely to fail. We also recommend you to use the `sms-tools` \n",
    "GUI and DFT model to plot the spectrum at different parts of the signal to see if you indeed observe \n",
    "that the phase spectrum is flat around the sinusoid frequencies. \n",
    "\n",
    "We will use sinusoidal model for analysis. We have modified the code in `sineModel.sineModelAnal()` to \n",
    "create a new function `sineModelAnalEnhanced()` which does a modified sine Tracking based on phase \n",
    "spectrum. Once we have the peaks estimated from the magnitude spectrum, we use a phase spectrum flatness \n",
    "measure around each peak location to select or reject the peak. \n",
    "\n",
    "You will implement the function selectFlatPhasePeak() that checks for the flatness of the phase spectrum \n",
    "around the peak location. Given the peak location (p), the positive half of the phase spectrum (pX) and \n",
    "a threshold (phaseDevThres), you will compute the standard deviation of 5 samples of pX around the peak \n",
    "location (two samples either side and the sample at p itself) and compare it with the threshold. Based \n",
    "on the comparison, return a boolean variable selectFlag, which is True if the standard deviation is less \n",
    "than the threshold (and hence the phase is flat), else False (phase is not flat). We will use a small \n",
    "phase deviation threshold of 0.01 radian. In short, selectFlatPhasePeak() that returns True if the \n",
    "standard deviation of five samples of the phase spectrum pX around the input index p is less than the \n",
    "given threshold, else False.\n",
    "\n",
    "Read through the function sineModelAnalEnhanced() and understand it thoroughly before implementing \n",
    "selectFlatPhasePeak() function. The function sineModelAnalEnhanced() takes an input audio file and \n",
    "uses phase based sinusoid tracking to obtain the two frequency tracks (fTrackEst) in the signal. \n",
    "Since we need only two sinusoids every frame, we only consider the frames where we get two selected \n",
    "peaks, and ignore the other frames. You can plot the estimated and true frequency tracks to visualize \n",
    "the accuracy of estimation (code provided). "
   ]
  },
  {
   "cell_type": "code",
   "execution_count": 76,
   "metadata": {
    "ExecuteTime": {
     "end_time": "2024-03-30T13:30:53.114553Z",
     "start_time": "2024-03-30T13:30:53.049781Z"
    }
   },
   "outputs": [],
   "source": [
    "## Complete this function\n",
    "def selectFlatPhasePeak(pX, p, phaseDevThres):\n",
    "    \"\"\"\n",
    "    Function to select a peak index based on phase flatness measure. \n",
    "    Input: \n",
    "            pX (numpy array) = The phase spectrum of the frame\n",
    "            p (positive integer) = The index of peak in the magnitude spectrum\n",
    "            phaseDevThres (float) = The threshold value to measure flatness of phase\n",
    "    Output: \n",
    "            selectFlag (Boolean) = True, if the peak at index p is a mainlobe, False otherwise\n",
    "    \"\"\"\n",
    "    #Your code here\n",
    "    selectFlag = False\n",
    "    samples = 5\n",
    "    selected_phase = pX[p-(samples/2):p+(samples/2)+1]  # select 5 samples\n",
    "    std_dev = np.std(selected_phase)    # get std deviation\n",
    "    if std_dev <= phaseDevThres:    # compare\n",
    "        selectFlag = True\n",
    "\n",
    "    return selectFlag\n",
    "\n",
    "    \n",
    "\n",
    "### Go through the code below and understand it, but do not modify anything ###\n",
    "def sineModelAnalEnhanced(inputFile= '../../sounds/sines-440-602-transient.wav'):\n",
    "    \"\"\"\n",
    "    Input:\n",
    "           inputFile (string): wav file including the path\n",
    "    Output:\n",
    "           tStamps: A Kx1 numpy array of time stamps at which the frequency components were estimated\n",
    "           tfreq: A Kx2 numpy array of frequency values, one column per component\n",
    "    \"\"\"\n",
    "    phaseDevThres = 1e-2                                   # Allowed deviation in phase\n",
    "    M = 2047                                               # window size\n",
    "    N = 4096                                               # FFT size \n",
    "    t = -80                                                # threshold in negative dB\n",
    "    H = 128                                                # hop-size\n",
    "    window='blackman'                                      # window type\n",
    "    fs, x = UF.wavread(inputFile)                          # Read input file\n",
    "    w = get_window(window, M)                              # Get the window\n",
    "    hM1 = int(np.floor((w.size+1)/2))                      # half analysis window size by rounding\n",
    "    hM2 = int(np.floor(w.size/2))                          # half analysis window size by floor\n",
    "    x = np.append(np.zeros(hM2),x)                         # add zeros at beginning to center first window at sample 0\n",
    "    x = np.append(x,np.zeros(hM2))                         # add zeros at the end to analyze last sample\n",
    "    pin = hM1                                              # initialize sound pointer in middle of analysis window       \n",
    "    pend = x.size - hM1                                    # last sample to start a frame\n",
    "    tStamps = np.arange(pin,pend,H)/float(fs)              # Generate time stamps\n",
    "    w = w / sum(w)                                         # normalize analysis window\n",
    "    tfreq = np.array([])\n",
    "    while pin<pend:                                        # while input sound pointer is within sound            \n",
    "        x1 = x[pin-hM1:pin+hM2]                            # select frame\n",
    "        mX, pX = SM.DFT.dftAnal(x1, w, N)                  # compute dft\n",
    "        ploc = UF.peakDetection(mX, t)                     # detect locations of peaks\n",
    "        ###### CODE DIFFERENT FROM sineModelAnal() #########\n",
    "        # Phase based mainlobe tracking\n",
    "        plocSelMask = np.zeros(len(ploc))                  \n",
    "        for pindex, p in enumerate(ploc):\n",
    "            if p > 2 and p < (len(pX) - 2):                    # Peaks at either end of the spectrum are not processed\n",
    "                if selectFlatPhasePeak(pX, p, phaseDevThres):  # Select the peak if the phase spectrum around the peak is flat\n",
    "                    plocSelMask[pindex] = 1        \n",
    "            else:\n",
    "                plocSelMask[pindex] = 1                        \n",
    "        plocSel = ploc[plocSelMask.nonzero()[0]]               # Select the ones chosen\n",
    "        if len(plocSel) != 2:                                  # Ignoring frames that don't return two selected peaks\n",
    "            ipfreq = [0.0, 0.0]\n",
    "        else:\n",
    "            iploc, ipmag, ipphase = UF.peakInterp(mX, pX, plocSel) # Only selected peaks to refine peak values by interpolation\n",
    "            ipfreq = fs*iploc/float(N)                             # convert peak locations to Hertz\n",
    "        ###### CODE DIFFERENT FROM sineModelAnal() #########\n",
    "        if pin == hM1:                                        # if first frame initialize output frequency track\n",
    "            tfreq = ipfreq \n",
    "        else:                                                 # rest of frames append values to frequency track\n",
    "            tfreq = np.vstack((tfreq, ipfreq))\n",
    "        pin += H\n",
    "    # Plot the estimated frequency tracks\n",
    "    mX, pX = stft.stftAnal(x, w, N, H)\n",
    "    maxplotfreq = 1500.0\n",
    "    binFreq = fs*np.arange(N*maxplotfreq/fs)/N\n",
    "    numFrames = int(mX[:,0].size)\n",
    "    frmTime = H*np.arange(numFrames)/float(fs) \n",
    "    plt.pcolormesh(frmTime, binFreq, np.transpose(mX[:,:N*maxplotfreq/fs+1]), cmap='hot_r')\n",
    "    plt.plot(tStamps,tfreq[:,0], color = 'y', linewidth=2.0)\n",
    "    plt.plot(tStamps,tfreq[:,1], color = 'c', linewidth=2.0)\n",
    "    plt.legend(('Estimated f1', 'Estimated f2'))\n",
    "    plt.xlabel('Time (s)')\n",
    "    plt.ylabel('Frequency (Hz)')\n",
    "    plt.autoscale(tight=True)\n",
    "    return tStamps, tfreq"
   ]
  },
  {
   "cell_type": "markdown",
   "metadata": {},
   "source": [
    "Test case 1: With pX = np.array([1.0, 1.2, 1.3, 1.4, 0.9, 0.8, 0.7, 0.6, 0.7, 0.8]), p = 3, and \n",
    "phaseDevThres = 0.25, the function selectFlatPhasePeak() returns selectFlag = True. \n",
    "\n",
    "Test case 2: With pX = np.array([1.0, 1.2, 1.3, 1.4, 0.9, 0.8, 0.7, 0.6, 0.7, 0.8]), p = 3, and \n",
    "phaseDevThres = 0.1, the function selectFlatPhasePeak() returns selectFlag = False.\n",
    "\n",
    "Test case 3: With pX = np.array([2.39, 2.40, 2.40, 2.41, 3.37, 2.45, 2.46, 2.46, 2.29, 1.85, 2.34, \n",
    "2.18, 2.93, 2.10, 3.39, 2.41, 2.41, 2.40, 2.40, 2.40, 1.46, 0.23, 0.98, 0.41, 0.37, 0.40, 0.41, \n",
    "0.87, 0.51, 0.67]), p = 17, and phaseDevThres = 0.01, the function selectFlatPhasePeak() \n",
    "returns selectFlag = True\n",
    "\n",
    "As an example, when you run sineModelAnalEnhanced(inputFile= './sines-440-602-transient.wav'), if \n",
    "you have implemented selectFlatPhasePeak() function correctly, you will see two sinusoid tracks in \n",
    "the beginning and end of the audio file, while there are no tracks in the middle of the audio file. \n",
    "This is due to the transients present in the middle of the audio file, where phase based tracking of \n",
    "sinusoids fails. "
   ]
  },
  {
   "cell_type": "code",
   "execution_count": 79,
   "metadata": {
    "ExecuteTime": {
     "end_time": "2024-03-30T13:31:04.969985Z",
     "start_time": "2024-03-30T13:31:04.962198Z"
    }
   },
   "outputs": [
    {
     "name": "stdout",
     "output_type": "stream",
     "text": [
      "True\n",
      "------------------------\n",
      "True\n"
     ]
    }
   ],
   "source": [
    "## Your code here\n",
    "import loadTestCases\n",
    "testcase = loadTestCases.load(4, 3)\n",
    "output = selectFlatPhasePeak(**testcase['input'])\n",
    "print output\n",
    "print '------------------------'\n",
    "print testcase['output']"
   ]
  },
  {
   "cell_type": "markdown",
   "metadata": {},
   "source": [
    "## Part 5 - Sinusoidal modeling of a multicomponent signal (optional)"
   ]
  },
  {
   "cell_type": "markdown",
   "metadata": {},
   "source": [
    "Perform a sinusoidal analysis of a complex synthetic signal, exploring the different parameters of \n",
    "the model. Use the sound multiSines.wav and post your comments on the forum thread specific for \n",
    "this topic. \n",
    "\n",
    "This is an open question without a single specific answer. We will use the sound multiSines.wav, which \n",
    "is a synthetic audio signal with sharp attacks, close frequency components with a wide range of \n",
    "amplitudes, and time varying chirps with frequency tracks that cross over. All these characteristics \n",
    "make this signal difficult to analyze with sineModel. Listen to the sound and use sms-tools GUI or \n",
    "sonic visualizer to see its spectrogram. \n",
    "\n",
    "We have written a basic code for sinusoidal analysis, you are free to modify the code. The function \n",
    "saves the output sound as <inputFileName>_sineModel.wav which you can listen to and visualize. \n",
    "\n",
    "You will get credit for this question by just attempting the question and submitting it. Share your \n",
    "thoughts on the forum thread (https://class.coursera.org/audio-002/forum/list?forum_id=10022) on the \n",
    "parameter choices you made, tradeoffs that you encountered, and quality of the reconstruction you achieved. "
   ]
  },
  {
   "cell_type": "code",
   "execution_count": null,
   "metadata": {},
   "outputs": [],
   "source": [
    "def exploreSineModel(inputFile='../../sounds/multiSines.wav'):\n",
    "    \"\"\"\n",
    "    Input:\n",
    "            inputFile (string) = wav file including the path\n",
    "    Output: \n",
    "            return True\n",
    "            Discuss on the forum!\n",
    "    \"\"\"\n",
    "    window='hamming'                            # Window type\n",
    "    M=3001                                      # Window size in sample\n",
    "    N=4096                                      # FFT Size\n",
    "    t=-80                                       # Threshold                \n",
    "    minSineDur=0.02                             # minimum duration of a sinusoid\n",
    "    maxnSines=15                                # Maximum number of sinusoids at any time frame\n",
    "    freqDevOffset=10                            # minimum frequency deviation at 0Hz\n",
    "    freqDevSlope=0.001                          # slope increase of minimum frequency deviation\n",
    "    Ns = 512                                    # size of fft used in synthesis\n",
    "    H = 128                                     # hop size (has to be 1/4 of Ns)\n",
    "    \n",
    "    fs, x = UF.wavread(inputFile)               # read input sound\n",
    "    w = get_window(window, M)                   # compute analysis window\n",
    "\n",
    "    # analyze the sound with the sinusoidal model\n",
    "    tfreq, tmag, tphase = SM.sineModelAnal(x, fs, w, N, H, t, maxnSines, minSineDur, freqDevOffset, freqDevSlope)\n",
    "\n",
    "    # synthesize the output sound from the sinusoidal representation\n",
    "    y = SM.sineModelSynth(tfreq, tmag, tphase, Ns, H, fs)\n",
    "\n",
    "    # output sound file name\n",
    "    outputFile = os.path.basename(inputFile)[:-4] + '_sineModel.wav'\n",
    "\n",
    "    # write the synthesized sound obtained from the sinusoidal synthesis\n",
    "    UF.wavwrite(y, fs, outputFile)\n",
    "\n",
    "    # create figure to show plots\n",
    "    plt.figure(figsize=(12, 9))\n",
    "\n",
    "    # frequency range to plot\n",
    "    maxplotfreq = 5000.0\n",
    "\n",
    "    # plot the input sound\n",
    "    plt.subplot(3,1,1)\n",
    "    plt.plot(np.arange(x.size)/float(fs), x)\n",
    "    plt.axis([0, x.size/float(fs), min(x), max(x)])\n",
    "    plt.ylabel('amplitude')\n",
    "    plt.xlabel('time (sec)')\n",
    "    plt.title('input sound: x')\n",
    "                \n",
    "    # plot the sinusoidal frequencies\n",
    "    plt.subplot(3,1,2)\n",
    "    if (tfreq.shape[1] > 0):\n",
    "        numFrames = tfreq.shape[0]\n",
    "        frmTime = H*np.arange(numFrames)/float(fs)\n",
    "        tfreq[tfreq<=0] = np.nan\n",
    "        plt.plot(frmTime, tfreq)\n",
    "        plt.axis([0, x.size/float(fs), 0, maxplotfreq])\n",
    "        plt.title('frequencies of sinusoidal tracks')\n",
    "\n",
    "    # plot the output sound\n",
    "    plt.subplot(3,1,3)\n",
    "    plt.plot(np.arange(y.size)/float(fs), y)\n",
    "    plt.axis([0, y.size/float(fs), min(y), max(y)])\n",
    "    plt.ylabel('amplitude')\n",
    "    plt.xlabel('time (sec)')\n",
    "    plt.title('output sound: y')\n",
    "\n",
    "    plt.tight_layout()\n",
    "    plt.show()\n",
    "    return True"
   ]
  }
 ],
 "metadata": {
  "kernelspec": {
   "name": "python2",
   "language": "python",
   "display_name": "Python 2"
  },
  "language_info": {
   "codemirror_mode": {
    "name": "ipython",
    "version": 3
   },
   "file_extension": ".py",
   "mimetype": "text/x-python",
   "name": "python",
   "nbconvert_exporter": "python",
   "pygments_lexer": "ipython3",
   "version": "3.5.2"
  }
 },
 "nbformat": 4,
 "nbformat_minor": 2
}
